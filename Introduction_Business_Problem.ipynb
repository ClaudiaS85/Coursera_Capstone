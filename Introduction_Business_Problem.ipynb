{
 "cells": [
  {
   "cell_type": "markdown",
   "metadata": {},
   "source": [
    "# Introducion Business problem"
   ]
  },
  {
   "cell_type": "markdown",
   "metadata": {},
   "source": [
    "HI! my name is Claudia and I come from Salerno a nice city in the south of Italy. In Salerno, one of the most popular meal is the pizza and many people  are interested in stat a business opening a pizzeria (\"restaurant that make pizza\"). Nevertheless, a lot of \"pizzerie\" are already open in my city and some of them are very close to each other and those lead to  a hight lever of competition. "
   ]
  },
  {
   "cell_type": "markdown",
   "metadata": {},
   "source": [
    "So, my _Business_ _Problem_ is to understand in which Borough of Salerno is better to open a pizzeria."
   ]
  },
  {
   "cell_type": "markdown",
   "metadata": {},
   "source": [
    "I'm going to adress the abovementioned business problem traslate it in a question that is rapresentative for the business, that is: which is the Borough in Salerno where are located the less number of pizzerie?."
   ]
  },
  {
   "cell_type": "markdown",
   "metadata": {},
   "source": [
    "*This ends the first part of the my submission to the assessement of the \"Capstone Project - The Battle of Neighborhoods (Week 1)\". for the second part please go to the notebook named \"Data\".*"
   ]
  }
 ],
 "metadata": {
  "kernelspec": {
   "display_name": "Python 3",
   "language": "python",
   "name": "python3"
  },
  "language_info": {
   "codemirror_mode": {
    "name": "ipython",
    "version": 3
   },
   "file_extension": ".py",
   "mimetype": "text/x-python",
   "name": "python",
   "nbconvert_exporter": "python",
   "pygments_lexer": "ipython3",
   "version": "3.6.8"
  }
 },
 "nbformat": 4,
 "nbformat_minor": 2
}
